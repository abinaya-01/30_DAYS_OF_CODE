{
 "cells": [
  {
   "cell_type": "markdown",
   "id": "029648dc",
   "metadata": {},
   "source": [
    "Task\n",
    "---\n",
    "Complete the code in the editor below. The variables d , l,s and are already declared and initialized for you. \n",
    "You must: Declare variables: one of type int, one of type double, and one of type String.\n",
    "Read lines of input from stdin (according to the sequence given in the Input Format section below) and initialize your variables.\n",
    "Use the operator to perform the following operations: Print the sum of plus your int variable on a new line.\n",
    "Print the sum of plus your double variable to a scale of one decimal place on a new line.\n",
    "Concatenate with the string you read as input and print the result on a new line."
   ]
  },
  {
   "cell_type": "code",
   "execution_count": null,
   "id": "be32952b",
   "metadata": {},
   "outputs": [],
   "source": [
    "i = 4\n",
    "d = 4.0\n",
    "s = 'HackerRank '\n",
    "x =int(input())\n",
    "y =float(input())\n",
    "z =str(input())\n",
    "print(i+x)\n",
    "print(d+y)\n",
    "print(s+z)"
   ]
  },
  {
   "cell_type": "code",
   "execution_count": null,
   "id": "c6d0d16c",
   "metadata": {},
   "outputs": [],
   "source": []
  },
  {
   "cell_type": "code",
   "execution_count": null,
   "id": "dce0d386",
   "metadata": {},
   "outputs": [],
   "source": []
  }
 ],
 "metadata": {
  "kernelspec": {
   "display_name": "Python 3 (ipykernel)",
   "language": "python",
   "name": "python3"
  },
  "language_info": {
   "codemirror_mode": {
    "name": "ipython",
    "version": 3
   },
   "file_extension": ".py",
   "mimetype": "text/x-python",
   "name": "python",
   "nbconvert_exporter": "python",
   "pygments_lexer": "ipython3",
   "version": "3.9.7"
  }
 },
 "nbformat": 4,
 "nbformat_minor": 5
}
