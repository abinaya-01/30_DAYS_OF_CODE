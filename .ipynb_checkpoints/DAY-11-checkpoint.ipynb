{
 "cells": [
  {
   "cell_type": "markdown",
   "id": "600ce41c",
   "metadata": {},
   "source": [
    "Task\n",
    "---\n",
    "Calculate the hourglass sum for every hourglass in , then print the maximum hourglass sum."
   ]
  },
  {
   "cell_type": "code",
   "execution_count": null,
   "id": "94efc577",
   "metadata": {},
   "outputs": [],
   "source": [
    "import math\n",
    "import os\n",
    "import random\n",
    "import re\n",
    "import sys\n",
    "\n",
    "if __name__ == '__main__':\n",
    "    arr = []\n",
    "\n",
    "    for _ in range(6):\n",
    "        arr.append(list(map(int, input().rstrip().split())))\n",
    "    sum = 0\n",
    "    tarr = []\n",
    "    \n",
    "    for l in range(0,4):\n",
    "        for k in range(0,4):\n",
    "            for i in range(l,l+3):\n",
    "                for j in range(k,k+3):\n",
    "                    if i == l+1 and ( j == k or j == k+2):\n",
    "                        continue\n",
    "                    else:\n",
    "                        sum += arr[i][j]\n",
    "            tarr.append(sum)\n",
    "            sum = 0\n",
    "    \n",
    "    print(max(tarr))"
   ]
  }
 ],
 "metadata": {
  "kernelspec": {
   "display_name": "Python 3 (ipykernel)",
   "language": "python",
   "name": "python3"
  },
  "language_info": {
   "codemirror_mode": {
    "name": "ipython",
    "version": 3
   },
   "file_extension": ".py",
   "mimetype": "text/x-python",
   "name": "python",
   "nbconvert_exporter": "python",
   "pygments_lexer": "ipython3",
   "version": "3.9.7"
  }
 },
 "nbformat": 4,
 "nbformat_minor": 5
}
