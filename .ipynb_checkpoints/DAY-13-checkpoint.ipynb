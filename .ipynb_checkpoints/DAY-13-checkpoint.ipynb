{
 "cells": [
  {
   "cell_type": "markdown",
   "id": "fb1e960b",
   "metadata": {},
   "source": [
    "Task\n",
    "---\n",
    "Given a Book class and a Solution class, write a MyBook class that does the following:"
   ]
  },
  {
   "cell_type": "code",
   "execution_count": null,
   "id": "a9f3b293",
   "metadata": {},
   "outputs": [],
   "source": [
    "from abc import ABCMeta, abstractmethod\n",
    "class Book(object, metaclass=ABCMeta):\n",
    "    def __init__(self,title,author):\n",
    "        self.title=title\n",
    "        self.author=author   \n",
    "    @abstractmethod\n",
    "    def display(): pass\n",
    "\n",
    "class MyBook(Book):\n",
    "\n",
    "    def __init__(self,title,author,price):\n",
    "        self.title = title\n",
    "        self.author = author\n",
    "        self.price = price\n",
    "\n",
    "    def display(self):\n",
    "        print(\"Title:\", title)\n",
    "        print(\"Author:\", author)\n",
    "        print(\"Price:\",price)\n",
    "\n",
    "title=input()"
   ]
  }
 ],
 "metadata": {
  "kernelspec": {
   "display_name": "Python 3 (ipykernel)",
   "language": "python",
   "name": "python3"
  },
  "language_info": {
   "codemirror_mode": {
    "name": "ipython",
    "version": 3
   },
   "file_extension": ".py",
   "mimetype": "text/x-python",
   "name": "python",
   "nbconvert_exporter": "python",
   "pygments_lexer": "ipython3",
   "version": "3.9.7"
  }
 },
 "nbformat": 4,
 "nbformat_minor": 5
}
