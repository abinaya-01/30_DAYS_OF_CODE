{
 "cells": [
  {
   "cell_type": "markdown",
   "id": "1c4bc887",
   "metadata": {},
   "source": [
    "Task\n",
    "----\n",
    "Given names and phone numbers, assemble a phone book that maps friends' names to their respective phone numbers. You will then be given an unknown number of names to query your phone book for. For each queried, print the associated entry from your phone book on a new line in the form name=phoneNumber; if an entry for is not found, print Not found instead. "
   ]
  },
  {
   "cell_type": "code",
   "execution_count": null,
   "id": "6c0a964d",
   "metadata": {},
   "outputs": [],
   "source": [
    "x = int(input())\n",
    "\n",
    "dictt = {}\n",
    "\n",
    "for i in range(x):\n",
    "    text = input().split()\n",
    "    dictt[text[0]] = text[1]\n",
    "\n",
    "while True:\n",
    "    try:\n",
    "        inpt = input()\n",
    "        if inpt in dictt:\n",
    "            print(inpt+\"=\"+dictt[inpt])\n",
    "        else:\n",
    "            print(\"Not found\")\n",
    "    except EOFError:\n",
    "        break"
   ]
  }
 ],
 "metadata": {
  "kernelspec": {
   "display_name": "Python 3 (ipykernel)",
   "language": "python",
   "name": "python3"
  },
  "language_info": {
   "codemirror_mode": {
    "name": "ipython",
    "version": 3
   },
   "file_extension": ".py",
   "mimetype": "text/x-python",
   "name": "python",
   "nbconvert_exporter": "python",
   "pygments_lexer": "ipython3",
   "version": "3.9.7"
  }
 },
 "nbformat": 4,
 "nbformat_minor": 5
}
