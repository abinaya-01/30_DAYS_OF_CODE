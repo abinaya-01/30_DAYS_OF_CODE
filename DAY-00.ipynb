{
 "cells": [
  {
   "cell_type": "markdown",
   "id": "c848b79e",
   "metadata": {},
   "source": [
    "Task\n",
    "---\n",
    "To complete this challenge, you must save a line of input from stdin to a variable, print Hello, World. on a single line, and finally print the value of your variable on a second line."
   ]
  },
  {
   "cell_type": "code",
   "execution_count": 1,
   "id": "37020913",
   "metadata": {},
   "outputs": [
    {
     "name": "stdout",
     "output_type": "stream",
     "text": [
      "Hello Machine\n",
      "Hello Whitemachine\n",
      "Hello Whitemachine\n"
     ]
    }
   ],
   "source": [
    "print(\"Hello Machine\")\n",
    "x = str(input())\n",
    "print(x)"
   ]
  },
  {
   "cell_type": "code",
   "execution_count": null,
   "id": "87c17c18",
   "metadata": {},
   "outputs": [],
   "source": []
  }
 ],
 "metadata": {
  "kernelspec": {
   "display_name": "Python 3 (ipykernel)",
   "language": "python",
   "name": "python3"
  },
  "language_info": {
   "codemirror_mode": {
    "name": "ipython",
    "version": 3
   },
   "file_extension": ".py",
   "mimetype": "text/x-python",
   "name": "python",
   "nbconvert_exporter": "python",
   "pygments_lexer": "ipython3",
   "version": "3.9.7"
  }
 },
 "nbformat": 4,
 "nbformat_minor": 5
}
