{
 "cells": [
  {
   "cell_type": "markdown",
   "id": "7e9f2341",
   "metadata": {},
   "source": [
    "Task\n",
    "---\n",
    "Complete the insert function in your editor so that it creates a new Node (pass as the Node constructor argument) and inserts it at the tail of the linked list referenced by the parameter. Once the new node is added, return the reference to the node. "
   ]
  },
  {
   "cell_type": "code",
   "execution_count": null,
   "id": "376f83eb",
   "metadata": {},
   "outputs": [],
   "source": [
    "class Node:\n",
    "    def __init__(self,data):\n",
    "        self.data = data\n",
    "        self.next = None \n",
    "class Solution: \n",
    "    def display(self,head):\n",
    "        current = head\n",
    "        while current:\n",
    "            print(current.data,end=' ')\n",
    "            current = current.next\n",
    "    def insert(self, head, data):\n",
    "        if head is None:\n",
    "            head = Node(data)\n",
    "        else:\n",
    "            curr = head\n",
    "            while curr.next:\n",
    "                curr = curr.next\n",
    "            curr.next = Node(data)\n",
    "        return head        \n",
    "\n",
    "\n",
    "\n",
    "\n",
    "mylist= Solution()\n",
    "T=int(input())\n",
    "head=None\n",
    "for i in range(T):\n",
    "    data=int(input())\n",
    "    head=mylist.insert(head,data)    \n",
    "mylist.display(head); \t  "
   ]
  }
 ],
 "metadata": {
  "kernelspec": {
   "display_name": "Python 3 (ipykernel)",
   "language": "python",
   "name": "python3"
  },
  "language_info": {
   "codemirror_mode": {
    "name": "ipython",
    "version": 3
   },
   "file_extension": ".py",
   "mimetype": "text/x-python",
   "name": "python",
   "nbconvert_exporter": "python",
   "pygments_lexer": "ipython3",
   "version": "3.9.7"
  }
 },
 "nbformat": 4,
 "nbformat_minor": 5
}
