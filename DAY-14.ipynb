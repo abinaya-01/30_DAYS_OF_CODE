{
 "cells": [
  {
   "cell_type": "markdown",
   "id": "b9bd6ed7",
   "metadata": {},
   "source": [
    "Task\n",
    "----\n",
    "Complete the Difference class by writing the following:"
   ]
  },
  {
   "cell_type": "code",
   "execution_count": 3,
   "id": "21806c6e",
   "metadata": {},
   "outputs": [],
   "source": [
    "class Difference:\n",
    "    def __init__(self, a):\n",
    "        self.__elements = a\n",
    "\n",
    "\t# Add yourself.maximumDifference = 0\n",
    "    \n",
    "    def computeDifference(self):\n",
    "        x = 101\n",
    "        y = 0\n",
    "\n",
    "        for item in self.__elements:\n",
    "            if item < x:\n",
    "                x = item\n",
    "            if item > y:\n",
    "                y = item\n",
    "            \n",
    "\n",
    "    \n",
    "        self.maximumDifference = y - x  \n",
    "\n",
    "# End of Difference class\n",
    "\n"
   ]
  },
  {
   "cell_type": "code",
   "execution_count": null,
   "id": "a64c77fb",
   "metadata": {},
   "outputs": [],
   "source": []
  }
 ],
 "metadata": {
  "kernelspec": {
   "display_name": "Python 3 (ipykernel)",
   "language": "python",
   "name": "python3"
  },
  "language_info": {
   "codemirror_mode": {
    "name": "ipython",
    "version": 3
   },
   "file_extension": ".py",
   "mimetype": "text/x-python",
   "name": "python",
   "nbconvert_exporter": "python",
   "pygments_lexer": "ipython3",
   "version": "3.9.7"
  }
 },
 "nbformat": 4,
 "nbformat_minor": 5
}
