{
 "cells": [
  {
   "cell_type": "markdown",
   "id": "94ac59d9",
   "metadata": {},
   "source": [
    "Task\n",
    "---\n",
    "Given an integer, , print its first multiples. Each multiple (where ) should be printed on a new line in the form: n x i = result."
   ]
  },
  {
   "cell_type": "code",
   "execution_count": 1,
   "id": "63345d4d",
   "metadata": {},
   "outputs": [
    {
     "name": "stdout",
     "output_type": "stream",
     "text": [
      "2\n",
      "2 x 1 = 2\n",
      "2 x 2 = 4\n",
      "2 x 3 = 6\n",
      "2 x 4 = 8\n",
      "2 x 5 = 10\n",
      "2 x 6 = 12\n",
      "2 x 7 = 14\n",
      "2 x 8 = 16\n",
      "2 x 9 = 18\n",
      "2 x 10 = 20\n"
     ]
    }
   ],
   "source": [
    "if __name__ == '__main__':\n",
    "    n = int(input().strip())\n",
    "    i = 1\n",
    "    while i<=10:\n",
    "        z=n*i\n",
    "        print(f\"{n} x {i} = {z}\")\n",
    "        i+=1 "
   ]
  },
  {
   "cell_type": "code",
   "execution_count": null,
   "id": "fa1ee5d0",
   "metadata": {},
   "outputs": [],
   "source": []
  }
 ],
 "metadata": {
  "kernelspec": {
   "display_name": "Python 3 (ipykernel)",
   "language": "python",
   "name": "python3"
  },
  "language_info": {
   "codemirror_mode": {
    "name": "ipython",
    "version": 3
   },
   "file_extension": ".py",
   "mimetype": "text/x-python",
   "name": "python",
   "nbconvert_exporter": "python",
   "pygments_lexer": "ipython3",
   "version": "3.9.7"
  }
 },
 "nbformat": 4,
 "nbformat_minor": 5
}
