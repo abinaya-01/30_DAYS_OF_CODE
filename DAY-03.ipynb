{
 "cells": [
  {
   "cell_type": "markdown",
   "id": "d001a4fc",
   "metadata": {},
   "source": [
    "Task\n",
    "---\n",
    "Given an integer,N, perform the following conditional actions:\n",
    "If is odd, print Weird\n",
    "If is even and in the inclusive range of to, print Not Weird\n",
    "If is even and in the inclusive range of to, print Weird\n",
    "Ifis even and greater than, print Not Weird"
   ]
  },
  {
   "cell_type": "code",
   "execution_count": 1,
   "id": "9b7d7ebe",
   "metadata": {},
   "outputs": [
    {
     "name": "stdout",
     "output_type": "stream",
     "text": [
      "20\n",
      "Weird\n"
     ]
    }
   ],
   "source": [
    "if __name__ == '__main__':\n",
    "    N = int(input().strip())\n",
    "    if N%2 == 0:\n",
    "        if N >= 2 and N<=5:\n",
    "            print(\"Not Weird\")\n",
    "        elif N >= 6 and N<=20:\n",
    "            print(\"Weird\") \n",
    "        elif N>20:\n",
    "            print(\"Not Weird\")\n",
    "    else:\n",
    "        print(\"Weird\")              \n",
    "            "
   ]
  },
  {
   "cell_type": "code",
   "execution_count": null,
   "id": "2faa10b5",
   "metadata": {},
   "outputs": [],
   "source": []
  }
 ],
 "metadata": {
  "kernelspec": {
   "display_name": "Python 3 (ipykernel)",
   "language": "python",
   "name": "python3"
  },
  "language_info": {
   "codemirror_mode": {
    "name": "ipython",
    "version": 3
   },
   "file_extension": ".py",
   "mimetype": "text/x-python",
   "name": "python",
   "nbconvert_exporter": "python",
   "pygments_lexer": "ipython3",
   "version": "3.9.7"
  }
 },
 "nbformat": 4,
 "nbformat_minor": 5
}
