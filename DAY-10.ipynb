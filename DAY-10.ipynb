{
 "cells": [
  {
   "cell_type": "markdown",
   "id": "d55ae024",
   "metadata": {},
   "source": [
    "Task\n",
    "---\n",
    "Given a base- integer, , convert it to binary (base-). Then find and print the base- integer denoting the maximum number of consecutive 's in 's binary representation. When working with different bases, it is common to show the base as a subscript. "
   ]
  },
  {
   "cell_type": "code",
   "execution_count": null,
   "id": "1b770059",
   "metadata": {},
   "outputs": [],
   "source": [
    "import math\n",
    "import os\n",
    "import random\n",
    "import re\n",
    "import sys\n",
    "\n",
    "if __name__ == '__main__':\n",
    "    n = int(input())\n",
    "\n",
    "    rmd = []\n",
    "    \n",
    "    while n > 0:\n",
    "        rm = n % 2\n",
    "        n = n//2\n",
    "        rmd.append(rm)\n",
    "    \n",
    "    count,result = 0,0\n",
    "    \n",
    "    for i in range(0,len(rmd)):\n",
    "        if rmd[i] == 0:\n",
    "            count = 0\n",
    "        else:\n",
    "            count +=1\n",
    "            result = max(result,count)\n",
    "    \n",
    "    print(result)"
   ]
  }
 ],
 "metadata": {
  "kernelspec": {
   "display_name": "Python 3 (ipykernel)",
   "language": "python",
   "name": "python3"
  },
  "language_info": {
   "codemirror_mode": {
    "name": "ipython",
    "version": 3
   },
   "file_extension": ".py",
   "mimetype": "text/x-python",
   "name": "python",
   "nbconvert_exporter": "python",
   "pygments_lexer": "ipython3",
   "version": "3.9.7"
  }
 },
 "nbformat": 4,
 "nbformat_minor": 5
}
