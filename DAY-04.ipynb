{
 "cells": [
  {
   "cell_type": "markdown",
   "id": "d171d65a",
   "metadata": {},
   "source": [
    "Task\n",
    "------\n",
    "Write a Person class with an instance variable, , and a constructor that takes an integer, , as a parameter. The constructor must assign to after confirming the argument passed as is not negative; if a negative argument is passed as , the constructor should set to and print Age is not valid, setting age to 0.. In addition, you must write the following instance methods:\n",
    "yearPasses() should increase the \n",
    "instance variable by.\n",
    "amIOld() should perform the following conditional actions:\n",
    "If, print You are young..\n",
    "If and, print You are a teenager..\n",
    "Otherwise, print You are old..\n",
    "\n",
    "To help you learn by example and complete this challenge, much of the code is provided for you, but you'll be writing everything in the future. The code that creates each instance of your Person class is in the main method. Don't worry if you don't understand it all quite yet!"
   ]
  },
  {
   "cell_type": "code",
   "execution_count": 2,
   "id": "1e99c3f1",
   "metadata": {},
   "outputs": [],
   "source": [
    "class Person:\n",
    "    def __init__(self,initialAge):\n",
    "        if initialAge < 0:\n",
    "            self.age = 0\n",
    "            print (\"Age is not valid, setting age to 0.\")\n",
    "        else:\n",
    "            self.age = initialAge\n",
    "    def amIOld(self):\n",
    "        if self.age < 13:\n",
    "            print (\"You are young..\")\n",
    "        elif self.age < 18:\n",
    "            print (\"You are a teenager..\")\n",
    "        else:\n",
    "            print( \"You are old..\")\n",
    "    def yearPasses(self):\n",
    "        self.age += 1"
   ]
  },
  {
   "cell_type": "code",
   "execution_count": 6,
   "id": "ace75175",
   "metadata": {},
   "outputs": [
    {
     "name": "stdout",
     "output_type": "stream",
     "text": [
      "12\n"
     ]
    },
    {
     "data": {
      "text/plain": [
       "<__main__.Person at 0x21d7a7f7f40>"
      ]
     },
     "execution_count": 6,
     "metadata": {},
     "output_type": "execute_result"
    }
   ],
   "source": [
    "t = int(input())\n",
    "Person(t)\n"
   ]
  },
  {
   "cell_type": "code",
   "execution_count": null,
   "id": "46e42f5d",
   "metadata": {},
   "outputs": [],
   "source": []
  }
 ],
 "metadata": {
  "kernelspec": {
   "display_name": "Python 3 (ipykernel)",
   "language": "python",
   "name": "python3"
  },
  "language_info": {
   "codemirror_mode": {
    "name": "ipython",
    "version": 3
   },
   "file_extension": ".py",
   "mimetype": "text/x-python",
   "name": "python",
   "nbconvert_exporter": "python",
   "pygments_lexer": "ipython3",
   "version": "3.9.7"
  }
 },
 "nbformat": 4,
 "nbformat_minor": 5
}
