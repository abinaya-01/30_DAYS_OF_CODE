{
 "cells": [
  {
   "cell_type": "markdown",
   "id": "713d124d",
   "metadata": {},
   "source": [
    "Task\n",
    "---\n",
    "You are given two classes, Person and Student, where Person is the base class and Student is the derived class. Completed code for Person and a declaration for Student are provided for you in the editor. Observe that Student inherits all the properties of Person."
   ]
  },
  {
   "cell_type": "code",
   "execution_count": null,
   "id": "3bd8b405",
   "metadata": {},
   "outputs": [],
   "source": []
  },
  {
   "cell_type": "code",
   "execution_count": null,
   "id": "9bf3fc84",
   "metadata": {},
   "outputs": [],
   "source": [
    "class Student(Person):\n",
    "    #   Class Constructor\n",
    "    #   \n",
    "    #   Parameters:\n",
    "    #   firstName - A string denoting the Person's first name.\n",
    "    #   lastName - A string denoting the Person's last name.\n",
    "    #   id - An integer denoting the Person's ID number.\n",
    "    #   scores - An array of integers denoting the Person's test scores.\n",
    "    #\n",
    "    # Write your constructor here\n",
    "    \n",
    "\n",
    "    #   Function Name: calculate\n",
    "    #   Return: A character denoting the grade.\n",
    "    #\n",
    "    # Write your function here\n",
    "\n",
    "    def __init__(self,firstName, lastName, idNum , scores):\n",
    "\n",
    "        self.firstName = firstName\n",
    "        self.lastName = lastName\n",
    "        self.idNum = idNum\n",
    "        self.scores = scores\n",
    "    \n",
    "    def printPerson(self):\n",
    "        print(\"Name: \" + lastName + \", \" + firstName)\n",
    "        print(\"ID:\", idNum)\n",
    "    \n",
    "    def calculate(self):\n",
    "        x = len(scores)\n",
    "        n = 0\n",
    "        for i in range(x):\n",
    "            n+=scores[i]\n",
    "        \n",
    "        y = int(n)//int(x)\n",
    "\n",
    "        if 90<= y <= 100:\n",
    "            return 'O'\n",
    "        elif 80<= y < 90:\n",
    "            return 'E'\n",
    "        elif 70<= y < 80:\n",
    "            return 'A'\n",
    "        elif 55<= y < 70:\n",
    "            return 'P'\n",
    "        elif 40<= y < 55:\n",
    "            return 'D'\n",
    "        else:\n",
    "            return 'T'"
   ]
  }
 ],
 "metadata": {
  "kernelspec": {
   "display_name": "Python 3 (ipykernel)",
   "language": "python",
   "name": "python3"
  },
  "language_info": {
   "codemirror_mode": {
    "name": "ipython",
    "version": 3
   },
   "file_extension": ".py",
   "mimetype": "text/x-python",
   "name": "python",
   "nbconvert_exporter": "python",
   "pygments_lexer": "ipython3",
   "version": "3.9.7"
  }
 },
 "nbformat": 4,
 "nbformat_minor": 5
}
